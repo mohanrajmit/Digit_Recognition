{
  "nbformat": 4,
  "nbformat_minor": 0,
  "metadata": {
    "colab": {
      "name": "MNIST_keras_CNN-99.55%.ipynb",
      "provenance": [],
      "include_colab_link": true
    },
    "kernelspec": {
      "name": "python3",
      "display_name": "Python 3"
    },
    "accelerator": "GPU"
  },
  "cells": [
    {
      "cell_type": "markdown",
      "metadata": {
        "id": "view-in-github",
        "colab_type": "text"
      },
      "source": [
        "<a href=\"https://colab.research.google.com/github/mohanrajmit/Digit_Recognition/blob/master/digit_recognition.ipynb\" target=\"_parent\"><img src=\"https://colab.research.google.com/assets/colab-badge.svg\" alt=\"Open In Colab\"/></a>"
      ]
    },
    {
      "cell_type": "code",
      "metadata": {
        "id": "VBPBbqSYId80",
        "colab_type": "code",
        "outputId": "72fb06b9-8a14-402c-ff74-a4cb9c700f60",
        "colab": {
          "base_uri": "https://localhost:8080/",
          "height": 97
        }
      },
      "source": [
        "import keras\n",
        "from keras.datasets import mnist\n",
        "from keras.models import Sequential\n",
        "from keras.layers import Dense, Dropout, Flatten\n",
        "from keras.layers import Conv2D, MaxPooling2D\n",
        "from keras import backend as K\n",
        "from imutils import paths\n",
        "import cv2"
      ],
      "execution_count": 2,
      "outputs": [
        {
          "output_type": "stream",
          "text": [
            "Using TensorFlow backend.\n"
          ],
          "name": "stderr"
        },
        {
          "output_type": "display_data",
          "data": {
            "text/html": [
              "<p style=\"color: red;\">\n",
              "The default version of TensorFlow in Colab will soon switch to TensorFlow 2.x.<br>\n",
              "We recommend you <a href=\"https://www.tensorflow.org/guide/migrate\" target=\"_blank\">upgrade</a> now \n",
              "or ensure your notebook will continue to use TensorFlow 1.x via the <code>%tensorflow_version 1.x</code> magic:\n",
              "<a href=\"https://colab.research.google.com/notebooks/tensorflow_version.ipynb\" target=\"_blank\">more info</a>.</p>\n"
            ],
            "text/plain": [
              "<IPython.core.display.HTML object>"
            ]
          },
          "metadata": {
            "tags": []
          }
        }
      ]
    },
    {
      "cell_type": "code",
      "metadata": {
        "id": "8Ot3_ZvXId9D",
        "colab_type": "code",
        "colab": {}
      },
      "source": [
        "batch_size = 128\n",
        "num_classes = 10\n",
        "epochs = 5\n",
        "\n",
        "# input image dimensions\n",
        "img_rows, img_cols = 28, 28\n"
      ],
      "execution_count": 0,
      "outputs": []
    },
    {
      "cell_type": "code",
      "metadata": {
        "id": "2DffwfD-zSBv",
        "colab_type": "code",
        "colab": {
          "base_uri": "https://localhost:8080/",
          "height": 121
        },
        "outputId": "df0b131e-1761-4e81-f95c-3d690529cdc5"
      },
      "source": [
        "!git clone https://github.com/mohanrajmit/Digit_Recognition"
      ],
      "execution_count": 4,
      "outputs": [
        {
          "output_type": "stream",
          "text": [
            "Cloning into 'Digit_Recognition'...\n",
            "remote: Enumerating objects: 798, done.\u001b[K\n",
            "remote: Counting objects: 100% (798/798), done.\u001b[K\n",
            "remote: Compressing objects: 100% (797/797), done.\u001b[K\n",
            "remote: Total 798 (delta 0), reused 795 (delta 0), pack-reused 0\u001b[K\n",
            "Receiving objects: 100% (798/798), 692.03 KiB | 1.90 MiB/s, done.\n"
          ],
          "name": "stdout"
        }
      ]
    },
    {
      "cell_type": "code",
      "metadata": {
        "id": "A3ZukLKgzmQ1",
        "colab_type": "code",
        "colab": {}
      },
      "source": [
        "images=[]\n",
        "labels=[]\n",
        "for imagePath in paths.list_images(\"/content/Digit_Recognition/Digit_Dataset\"):\n",
        "  image = cv2.imread(imagePath,0)\n",
        "  image_path_dir = imagePath.split(\"/\")[-2]\n",
        "  images.append(image)\n",
        "  labels.append(image_path_dir)"
      ],
      "execution_count": 0,
      "outputs": []
    },
    {
      "cell_type": "code",
      "metadata": {
        "id": "AZIF1-0L0Sxg",
        "colab_type": "code",
        "colab": {}
      },
      "source": [
        "import numpy as np\n",
        "from sklearn.model_selection import train_test_split\n"
      ],
      "execution_count": 0,
      "outputs": []
    },
    {
      "cell_type": "code",
      "metadata": {
        "id": "kBMdt-vo0HxH",
        "colab_type": "code",
        "colab": {}
      },
      "source": [
        "data= np.array(images)\n",
        "labels_final = np.array(labels)"
      ],
      "execution_count": 0,
      "outputs": []
    },
    {
      "cell_type": "code",
      "metadata": {
        "id": "mqD4qoB_Im51",
        "colab_type": "code",
        "colab": {}
      },
      "source": [
        "\n",
        "X_train, X_test, y_train, y_test = train_test_split(data,labels_final, test_size=0.10,random_state=42)\n",
        "X_train = X_train.reshape(X_train.shape[0], img_rows, img_cols, 1)\n",
        "X_test = X_test.reshape(X_test.shape[0], img_rows, img_cols, 1)\n",
        "input_shape = (img_rows, img_cols, 1)\n"
      ],
      "execution_count": 0,
      "outputs": []
    },
    {
      "cell_type": "code",
      "metadata": {
        "id": "8c0goUm6kDbi",
        "colab_type": "code",
        "colab": {
          "base_uri": "https://localhost:8080/",
          "height": 34
        },
        "outputId": "63a057ad-9499-41a6-915c-15c2e5e84bfd"
      },
      "source": [
        "print(y_test[0])"
      ],
      "execution_count": 10,
      "outputs": [
        {
          "output_type": "stream",
          "text": [
            "2\n"
          ],
          "name": "stdout"
        }
      ]
    },
    {
      "cell_type": "markdown",
      "metadata": {
        "id": "7KvWis7tkBwQ",
        "colab_type": "text"
      },
      "source": [
        ""
      ]
    },
    {
      "cell_type": "code",
      "metadata": {
        "id": "Nrpi7I6lId9V",
        "colab_type": "code",
        "outputId": "3de8d6ea-9bc4-4665-ac96-ea4279eab753",
        "colab": {
          "base_uri": "https://localhost:8080/",
          "height": 69
        }
      },
      "source": [
        "X_train = X_train.astype('float32')\n",
        "X_test = X_test.astype('float32')\n",
        "X_train /= 255\n",
        "X_test /= 255\n",
        "print('x_train shape:', X_train.shape)\n",
        "print(X_train.shape[0], 'train samples')\n",
        "print(X_test.shape[0], 'test samples')"
      ],
      "execution_count": 12,
      "outputs": [
        {
          "output_type": "stream",
          "text": [
            "x_train shape: (717, 28, 28, 1)\n",
            "717 train samples\n",
            "80 test samples\n"
          ],
          "name": "stdout"
        }
      ]
    },
    {
      "cell_type": "code",
      "metadata": {
        "scrolled": false,
        "id": "sb95fYcVId9g",
        "colab_type": "code",
        "colab": {}
      },
      "source": [
        "# convert class vectors to binary class matrices\n",
        "y_train = keras.utils.to_categorical(y_train, num_classes)\n",
        "y_test = keras.utils.to_categorical(y_test, num_classes)"
      ],
      "execution_count": 0,
      "outputs": []
    },
    {
      "cell_type": "code",
      "metadata": {
        "id": "LyHYFqR0Id9q",
        "colab_type": "code",
        "colab": {
          "base_uri": "https://localhost:8080/",
          "height": 262
        },
        "outputId": "b31470a1-d984-4334-9c7c-2dcd8068176e"
      },
      "source": [
        "model = Sequential()\n",
        "model.add(Conv2D(32, kernel_size=(3, 3),\n",
        "                 activation='relu',\n",
        "                 input_shape=input_shape))\n",
        "model.add(Conv2D(64, (3, 3), activation='relu'))\n",
        "model.add(MaxPooling2D(pool_size=(2, 2)))\n",
        "model.add(Dropout(0.25))\n",
        "model.add(Flatten())\n",
        "model.add(Dense(128, activation='relu'))\n",
        "model.add(Dropout(0.5))\n",
        "model.add(Dense(num_classes, activation='softmax'))\n",
        "\n"
      ],
      "execution_count": 14,
      "outputs": [
        {
          "output_type": "stream",
          "text": [
            "WARNING:tensorflow:From /usr/local/lib/python3.6/dist-packages/keras/backend/tensorflow_backend.py:66: The name tf.get_default_graph is deprecated. Please use tf.compat.v1.get_default_graph instead.\n",
            "\n",
            "WARNING:tensorflow:From /usr/local/lib/python3.6/dist-packages/keras/backend/tensorflow_backend.py:541: The name tf.placeholder is deprecated. Please use tf.compat.v1.placeholder instead.\n",
            "\n",
            "WARNING:tensorflow:From /usr/local/lib/python3.6/dist-packages/keras/backend/tensorflow_backend.py:4432: The name tf.random_uniform is deprecated. Please use tf.random.uniform instead.\n",
            "\n",
            "WARNING:tensorflow:From /usr/local/lib/python3.6/dist-packages/keras/backend/tensorflow_backend.py:4267: The name tf.nn.max_pool is deprecated. Please use tf.nn.max_pool2d instead.\n",
            "\n",
            "WARNING:tensorflow:From /usr/local/lib/python3.6/dist-packages/keras/backend/tensorflow_backend.py:148: The name tf.placeholder_with_default is deprecated. Please use tf.compat.v1.placeholder_with_default instead.\n",
            "\n",
            "WARNING:tensorflow:From /usr/local/lib/python3.6/dist-packages/keras/backend/tensorflow_backend.py:3733: calling dropout (from tensorflow.python.ops.nn_ops) with keep_prob is deprecated and will be removed in a future version.\n",
            "Instructions for updating:\n",
            "Please use `rate` instead of `keep_prob`. Rate should be set to `rate = 1 - keep_prob`.\n"
          ],
          "name": "stdout"
        }
      ]
    },
    {
      "cell_type": "code",
      "metadata": {
        "id": "DfJk083kId95",
        "colab_type": "code",
        "outputId": "5a882ac3-46e7-4b39-f250-ec24be9cd85b",
        "colab": {
          "base_uri": "https://localhost:8080/",
          "height": 434
        }
      },
      "source": [
        "model.summary()"
      ],
      "execution_count": 15,
      "outputs": [
        {
          "output_type": "stream",
          "text": [
            "Model: \"sequential_1\"\n",
            "_________________________________________________________________\n",
            "Layer (type)                 Output Shape              Param #   \n",
            "=================================================================\n",
            "conv2d_1 (Conv2D)            (None, 26, 26, 32)        320       \n",
            "_________________________________________________________________\n",
            "conv2d_2 (Conv2D)            (None, 24, 24, 64)        18496     \n",
            "_________________________________________________________________\n",
            "max_pooling2d_1 (MaxPooling2 (None, 12, 12, 64)        0         \n",
            "_________________________________________________________________\n",
            "dropout_1 (Dropout)          (None, 12, 12, 64)        0         \n",
            "_________________________________________________________________\n",
            "flatten_1 (Flatten)          (None, 9216)              0         \n",
            "_________________________________________________________________\n",
            "dense_1 (Dense)              (None, 128)               1179776   \n",
            "_________________________________________________________________\n",
            "dropout_2 (Dropout)          (None, 128)               0         \n",
            "_________________________________________________________________\n",
            "dense_2 (Dense)              (None, 10)                1290      \n",
            "=================================================================\n",
            "Total params: 1,199,882\n",
            "Trainable params: 1,199,882\n",
            "Non-trainable params: 0\n",
            "_________________________________________________________________\n"
          ],
          "name": "stdout"
        }
      ]
    },
    {
      "cell_type": "code",
      "metadata": {
        "id": "iS6_SY_SId-B",
        "colab_type": "code",
        "colab": {
          "base_uri": "https://localhost:8080/",
          "height": 106
        },
        "outputId": "d42ec663-4486-4ff1-8730-228a6e4e0915"
      },
      "source": [
        "model.compile(loss='categorical_crossentropy', optimizer='adam', metrics=['accuracy'])"
      ],
      "execution_count": 16,
      "outputs": [
        {
          "output_type": "stream",
          "text": [
            "WARNING:tensorflow:From /usr/local/lib/python3.6/dist-packages/keras/optimizers.py:793: The name tf.train.Optimizer is deprecated. Please use tf.compat.v1.train.Optimizer instead.\n",
            "\n",
            "WARNING:tensorflow:From /usr/local/lib/python3.6/dist-packages/keras/backend/tensorflow_backend.py:3576: The name tf.log is deprecated. Please use tf.math.log instead.\n",
            "\n"
          ],
          "name": "stdout"
        }
      ]
    },
    {
      "cell_type": "code",
      "metadata": {
        "id": "I0CqfWbMId-J",
        "colab_type": "code",
        "outputId": "3f5a409f-6771-419c-8542-4a31c83f5aa1",
        "colab": {
          "base_uri": "https://localhost:8080/",
          "height": 1000
        }
      },
      "source": [
        "model.fit(X_train, y_train,\n",
        "          batch_size=batch_size,\n",
        "          epochs=100,\n",
        "          verbose=1,\n",
        "          validation_data=(X_test, y_test))"
      ],
      "execution_count": 19,
      "outputs": [
        {
          "output_type": "stream",
          "text": [
            "Train on 717 samples, validate on 80 samples\n",
            "Epoch 1/100\n",
            "717/717 [==============================] - 0s 205us/step - loss: 2.0766 - acc: 0.2901 - val_loss: 2.0462 - val_acc: 0.2875\n",
            "Epoch 2/100\n",
            "717/717 [==============================] - 0s 184us/step - loss: 2.0837 - acc: 0.2887 - val_loss: 2.0442 - val_acc: 0.2875\n",
            "Epoch 3/100\n",
            "717/717 [==============================] - 0s 169us/step - loss: 2.0776 - acc: 0.2901 - val_loss: 2.0273 - val_acc: 0.2875\n",
            "Epoch 4/100\n",
            "717/717 [==============================] - 0s 160us/step - loss: 2.0777 - acc: 0.2915 - val_loss: 2.0210 - val_acc: 0.2875\n",
            "Epoch 5/100\n",
            "717/717 [==============================] - 0s 161us/step - loss: 2.0698 - acc: 0.2901 - val_loss: 2.0215 - val_acc: 0.2875\n",
            "Epoch 6/100\n",
            "717/717 [==============================] - 0s 164us/step - loss: 2.0458 - acc: 0.2901 - val_loss: 1.9803 - val_acc: 0.2875\n",
            "Epoch 7/100\n",
            "717/717 [==============================] - 0s 161us/step - loss: 2.0142 - acc: 0.2901 - val_loss: 1.9402 - val_acc: 0.2875\n",
            "Epoch 8/100\n",
            "717/717 [==============================] - 0s 165us/step - loss: 1.9546 - acc: 0.2901 - val_loss: 1.8683 - val_acc: 0.2875\n",
            "Epoch 9/100\n",
            "717/717 [==============================] - 0s 162us/step - loss: 1.8391 - acc: 0.2943 - val_loss: 1.7467 - val_acc: 0.2875\n",
            "Epoch 10/100\n",
            "717/717 [==============================] - 0s 156us/step - loss: 1.7099 - acc: 0.2943 - val_loss: 1.6008 - val_acc: 0.2875\n",
            "Epoch 11/100\n",
            "717/717 [==============================] - 0s 171us/step - loss: 1.5424 - acc: 0.3445 - val_loss: 1.4509 - val_acc: 0.3750\n",
            "Epoch 12/100\n",
            "717/717 [==============================] - 0s 162us/step - loss: 1.3785 - acc: 0.4282 - val_loss: 1.3065 - val_acc: 0.5750\n",
            "Epoch 13/100\n",
            "717/717 [==============================] - 0s 156us/step - loss: 1.2326 - acc: 0.5649 - val_loss: 1.1582 - val_acc: 0.7125\n",
            "Epoch 14/100\n",
            "717/717 [==============================] - 0s 158us/step - loss: 1.0730 - acc: 0.6513 - val_loss: 0.9746 - val_acc: 0.7375\n",
            "Epoch 15/100\n",
            "717/717 [==============================] - 0s 148us/step - loss: 0.9193 - acc: 0.7392 - val_loss: 0.8081 - val_acc: 0.8625\n",
            "Epoch 16/100\n",
            "717/717 [==============================] - 0s 145us/step - loss: 0.7634 - acc: 0.8047 - val_loss: 0.6455 - val_acc: 0.8875\n",
            "Epoch 17/100\n",
            "717/717 [==============================] - 0s 151us/step - loss: 0.6259 - acc: 0.8480 - val_loss: 0.5234 - val_acc: 0.8875\n",
            "Epoch 18/100\n",
            "717/717 [==============================] - 0s 147us/step - loss: 0.5462 - acc: 0.8577 - val_loss: 0.4338 - val_acc: 0.8875\n",
            "Epoch 19/100\n",
            "717/717 [==============================] - 0s 146us/step - loss: 0.4415 - acc: 0.8828 - val_loss: 0.3644 - val_acc: 0.8875\n",
            "Epoch 20/100\n",
            "717/717 [==============================] - 0s 153us/step - loss: 0.3970 - acc: 0.8912 - val_loss: 0.3096 - val_acc: 0.8875\n",
            "Epoch 21/100\n",
            "717/717 [==============================] - 0s 145us/step - loss: 0.3573 - acc: 0.8870 - val_loss: 0.2795 - val_acc: 0.8875\n",
            "Epoch 22/100\n",
            "717/717 [==============================] - 0s 146us/step - loss: 0.2916 - acc: 0.9163 - val_loss: 0.2534 - val_acc: 0.8875\n",
            "Epoch 23/100\n",
            "717/717 [==============================] - 0s 143us/step - loss: 0.2451 - acc: 0.9289 - val_loss: 0.2344 - val_acc: 0.9250\n",
            "Epoch 24/100\n",
            "717/717 [==============================] - 0s 144us/step - loss: 0.2108 - acc: 0.9400 - val_loss: 0.2181 - val_acc: 0.9250\n",
            "Epoch 25/100\n",
            "717/717 [==============================] - 0s 156us/step - loss: 0.2019 - acc: 0.9414 - val_loss: 0.1956 - val_acc: 0.9375\n",
            "Epoch 26/100\n",
            "717/717 [==============================] - 0s 149us/step - loss: 0.1818 - acc: 0.9456 - val_loss: 0.1849 - val_acc: 0.9625\n",
            "Epoch 27/100\n",
            "717/717 [==============================] - 0s 145us/step - loss: 0.1573 - acc: 0.9582 - val_loss: 0.1563 - val_acc: 0.9500\n",
            "Epoch 28/100\n",
            "717/717 [==============================] - 0s 146us/step - loss: 0.1428 - acc: 0.9609 - val_loss: 0.1466 - val_acc: 0.9625\n",
            "Epoch 29/100\n",
            "717/717 [==============================] - 0s 147us/step - loss: 0.1342 - acc: 0.9623 - val_loss: 0.1268 - val_acc: 0.9625\n",
            "Epoch 30/100\n",
            "717/717 [==============================] - 0s 155us/step - loss: 0.1081 - acc: 0.9693 - val_loss: 0.1186 - val_acc: 0.9625\n",
            "Epoch 31/100\n",
            "717/717 [==============================] - 0s 148us/step - loss: 0.0994 - acc: 0.9791 - val_loss: 0.1178 - val_acc: 0.9625\n",
            "Epoch 32/100\n",
            "717/717 [==============================] - 0s 150us/step - loss: 0.1015 - acc: 0.9707 - val_loss: 0.1110 - val_acc: 0.9625\n",
            "Epoch 33/100\n",
            "717/717 [==============================] - 0s 160us/step - loss: 0.0801 - acc: 0.9805 - val_loss: 0.0938 - val_acc: 0.9625\n",
            "Epoch 34/100\n",
            "717/717 [==============================] - 0s 152us/step - loss: 0.0737 - acc: 0.9847 - val_loss: 0.0911 - val_acc: 0.9625\n",
            "Epoch 35/100\n",
            "717/717 [==============================] - 0s 152us/step - loss: 0.0733 - acc: 0.9819 - val_loss: 0.0817 - val_acc: 0.9750\n",
            "Epoch 36/100\n",
            "717/717 [==============================] - 0s 160us/step - loss: 0.0558 - acc: 0.9888 - val_loss: 0.0804 - val_acc: 0.9625\n",
            "Epoch 37/100\n",
            "717/717 [==============================] - 0s 158us/step - loss: 0.0664 - acc: 0.9805 - val_loss: 0.0790 - val_acc: 0.9625\n",
            "Epoch 38/100\n",
            "717/717 [==============================] - 0s 157us/step - loss: 0.0639 - acc: 0.9819 - val_loss: 0.0787 - val_acc: 0.9625\n",
            "Epoch 39/100\n",
            "717/717 [==============================] - 0s 147us/step - loss: 0.0391 - acc: 0.9930 - val_loss: 0.0756 - val_acc: 0.9875\n",
            "Epoch 40/100\n",
            "717/717 [==============================] - 0s 150us/step - loss: 0.0533 - acc: 0.9847 - val_loss: 0.0722 - val_acc: 0.9875\n",
            "Epoch 41/100\n",
            "717/717 [==============================] - 0s 149us/step - loss: 0.0619 - acc: 0.9833 - val_loss: 0.0749 - val_acc: 0.9875\n",
            "Epoch 42/100\n",
            "717/717 [==============================] - 0s 156us/step - loss: 0.0455 - acc: 0.9902 - val_loss: 0.0601 - val_acc: 0.9750\n",
            "Epoch 43/100\n",
            "717/717 [==============================] - 0s 151us/step - loss: 0.0462 - acc: 0.9874 - val_loss: 0.0651 - val_acc: 0.9625\n",
            "Epoch 44/100\n",
            "717/717 [==============================] - 0s 158us/step - loss: 0.0417 - acc: 0.9916 - val_loss: 0.0560 - val_acc: 0.9875\n",
            "Epoch 45/100\n",
            "717/717 [==============================] - 0s 161us/step - loss: 0.0436 - acc: 0.9916 - val_loss: 0.0487 - val_acc: 0.9875\n",
            "Epoch 46/100\n",
            "717/717 [==============================] - 0s 148us/step - loss: 0.0398 - acc: 0.9874 - val_loss: 0.0528 - val_acc: 0.9875\n",
            "Epoch 47/100\n",
            "717/717 [==============================] - 0s 151us/step - loss: 0.0341 - acc: 0.9874 - val_loss: 0.0525 - val_acc: 0.9875\n",
            "Epoch 48/100\n",
            "717/717 [==============================] - 0s 151us/step - loss: 0.0454 - acc: 0.9874 - val_loss: 0.0487 - val_acc: 0.9875\n",
            "Epoch 49/100\n",
            "717/717 [==============================] - 0s 150us/step - loss: 0.0356 - acc: 0.9902 - val_loss: 0.0535 - val_acc: 0.9875\n",
            "Epoch 50/100\n",
            "717/717 [==============================] - 0s 157us/step - loss: 0.0362 - acc: 0.9944 - val_loss: 0.0418 - val_acc: 0.9875\n",
            "Epoch 51/100\n",
            "717/717 [==============================] - 0s 148us/step - loss: 0.0270 - acc: 0.9958 - val_loss: 0.0396 - val_acc: 0.9875\n",
            "Epoch 52/100\n",
            "717/717 [==============================] - 0s 148us/step - loss: 0.0315 - acc: 0.9972 - val_loss: 0.0467 - val_acc: 0.9875\n",
            "Epoch 53/100\n",
            "717/717 [==============================] - 0s 164us/step - loss: 0.0457 - acc: 0.9874 - val_loss: 0.0363 - val_acc: 0.9875\n",
            "Epoch 54/100\n",
            "717/717 [==============================] - 0s 161us/step - loss: 0.0325 - acc: 0.9916 - val_loss: 0.0324 - val_acc: 0.9875\n",
            "Epoch 55/100\n",
            "717/717 [==============================] - 0s 143us/step - loss: 0.0252 - acc: 0.9916 - val_loss: 0.0392 - val_acc: 0.9875\n",
            "Epoch 56/100\n",
            "717/717 [==============================] - 0s 152us/step - loss: 0.0315 - acc: 0.9888 - val_loss: 0.0308 - val_acc: 1.0000\n",
            "Epoch 57/100\n",
            "717/717 [==============================] - 0s 152us/step - loss: 0.0245 - acc: 0.9958 - val_loss: 0.0318 - val_acc: 0.9875\n",
            "Epoch 58/100\n",
            "717/717 [==============================] - 0s 142us/step - loss: 0.0298 - acc: 0.9930 - val_loss: 0.0349 - val_acc: 0.9875\n",
            "Epoch 59/100\n",
            "717/717 [==============================] - 0s 147us/step - loss: 0.0243 - acc: 0.9972 - val_loss: 0.0338 - val_acc: 0.9875\n",
            "Epoch 60/100\n",
            "717/717 [==============================] - 0s 148us/step - loss: 0.0255 - acc: 0.9944 - val_loss: 0.0407 - val_acc: 0.9875\n",
            "Epoch 61/100\n",
            "717/717 [==============================] - 0s 142us/step - loss: 0.0168 - acc: 1.0000 - val_loss: 0.0426 - val_acc: 0.9875\n",
            "Epoch 62/100\n",
            "717/717 [==============================] - 0s 146us/step - loss: 0.0271 - acc: 0.9930 - val_loss: 0.0274 - val_acc: 0.9875\n",
            "Epoch 63/100\n",
            "717/717 [==============================] - 0s 148us/step - loss: 0.0314 - acc: 0.9902 - val_loss: 0.0306 - val_acc: 0.9875\n",
            "Epoch 64/100\n",
            "717/717 [==============================] - 0s 150us/step - loss: 0.0323 - acc: 0.9902 - val_loss: 0.0339 - val_acc: 1.0000\n",
            "Epoch 65/100\n",
            "717/717 [==============================] - 0s 143us/step - loss: 0.0256 - acc: 0.9916 - val_loss: 0.0276 - val_acc: 1.0000\n",
            "Epoch 66/100\n",
            "717/717 [==============================] - 0s 146us/step - loss: 0.0208 - acc: 0.9958 - val_loss: 0.0309 - val_acc: 1.0000\n",
            "Epoch 67/100\n",
            "717/717 [==============================] - 0s 146us/step - loss: 0.0190 - acc: 0.9958 - val_loss: 0.0285 - val_acc: 1.0000\n",
            "Epoch 68/100\n",
            "717/717 [==============================] - 0s 147us/step - loss: 0.0281 - acc: 0.9944 - val_loss: 0.0387 - val_acc: 0.9875\n",
            "Epoch 69/100\n",
            "717/717 [==============================] - 0s 146us/step - loss: 0.0230 - acc: 0.9972 - val_loss: 0.0413 - val_acc: 0.9750\n",
            "Epoch 70/100\n",
            "717/717 [==============================] - 0s 147us/step - loss: 0.0291 - acc: 0.9930 - val_loss: 0.0313 - val_acc: 1.0000\n",
            "Epoch 71/100\n",
            "717/717 [==============================] - 0s 149us/step - loss: 0.0237 - acc: 0.9930 - val_loss: 0.0276 - val_acc: 1.0000\n",
            "Epoch 72/100\n",
            "717/717 [==============================] - 0s 152us/step - loss: 0.0188 - acc: 0.9944 - val_loss: 0.0347 - val_acc: 0.9875\n",
            "Epoch 73/100\n",
            "717/717 [==============================] - 0s 156us/step - loss: 0.0253 - acc: 0.9930 - val_loss: 0.0309 - val_acc: 0.9875\n",
            "Epoch 74/100\n",
            "717/717 [==============================] - 0s 171us/step - loss: 0.0172 - acc: 0.9972 - val_loss: 0.0321 - val_acc: 0.9875\n",
            "Epoch 75/100\n",
            "717/717 [==============================] - 0s 155us/step - loss: 0.0217 - acc: 0.9944 - val_loss: 0.0364 - val_acc: 0.9875\n",
            "Epoch 76/100\n",
            "717/717 [==============================] - 0s 154us/step - loss: 0.0357 - acc: 0.9916 - val_loss: 0.0387 - val_acc: 0.9875\n",
            "Epoch 77/100\n",
            "717/717 [==============================] - 0s 158us/step - loss: 0.0150 - acc: 0.9972 - val_loss: 0.0253 - val_acc: 0.9875\n",
            "Epoch 78/100\n",
            "717/717 [==============================] - 0s 161us/step - loss: 0.0125 - acc: 0.9972 - val_loss: 0.0245 - val_acc: 0.9875\n",
            "Epoch 79/100\n",
            "717/717 [==============================] - 0s 157us/step - loss: 0.0158 - acc: 0.9958 - val_loss: 0.0253 - val_acc: 0.9875\n",
            "Epoch 80/100\n",
            "717/717 [==============================] - 0s 153us/step - loss: 0.0124 - acc: 0.9986 - val_loss: 0.0251 - val_acc: 0.9875\n",
            "Epoch 81/100\n",
            "717/717 [==============================] - 0s 154us/step - loss: 0.0094 - acc: 0.9986 - val_loss: 0.0308 - val_acc: 0.9875\n",
            "Epoch 82/100\n",
            "717/717 [==============================] - 0s 159us/step - loss: 0.0097 - acc: 0.9986 - val_loss: 0.0308 - val_acc: 0.9875\n",
            "Epoch 83/100\n",
            "717/717 [==============================] - 0s 149us/step - loss: 0.0224 - acc: 0.9958 - val_loss: 0.0207 - val_acc: 0.9875\n",
            "Epoch 84/100\n",
            "717/717 [==============================] - 0s 155us/step - loss: 0.0171 - acc: 0.9958 - val_loss: 0.0167 - val_acc: 1.0000\n",
            "Epoch 85/100\n",
            "717/717 [==============================] - 0s 150us/step - loss: 0.0183 - acc: 0.9972 - val_loss: 0.0224 - val_acc: 1.0000\n",
            "Epoch 86/100\n",
            "717/717 [==============================] - 0s 150us/step - loss: 0.0129 - acc: 0.9986 - val_loss: 0.0163 - val_acc: 1.0000\n",
            "Epoch 87/100\n",
            "717/717 [==============================] - 0s 148us/step - loss: 0.0185 - acc: 0.9958 - val_loss: 0.0155 - val_acc: 1.0000\n",
            "Epoch 88/100\n",
            "717/717 [==============================] - 0s 158us/step - loss: 0.0200 - acc: 0.9930 - val_loss: 0.0187 - val_acc: 1.0000\n",
            "Epoch 89/100\n",
            "717/717 [==============================] - 0s 159us/step - loss: 0.0166 - acc: 0.9958 - val_loss: 0.0293 - val_acc: 0.9875\n",
            "Epoch 90/100\n",
            "717/717 [==============================] - 0s 150us/step - loss: 0.0168 - acc: 0.9944 - val_loss: 0.0261 - val_acc: 0.9875\n",
            "Epoch 91/100\n",
            "717/717 [==============================] - 0s 149us/step - loss: 0.0136 - acc: 0.9958 - val_loss: 0.0177 - val_acc: 1.0000\n",
            "Epoch 92/100\n",
            "717/717 [==============================] - 0s 153us/step - loss: 0.0184 - acc: 0.9944 - val_loss: 0.0180 - val_acc: 1.0000\n",
            "Epoch 93/100\n",
            "717/717 [==============================] - 0s 159us/step - loss: 0.0212 - acc: 0.9944 - val_loss: 0.0226 - val_acc: 1.0000\n",
            "Epoch 94/100\n",
            "717/717 [==============================] - 0s 150us/step - loss: 0.0063 - acc: 0.9986 - val_loss: 0.0154 - val_acc: 1.0000\n",
            "Epoch 95/100\n",
            "717/717 [==============================] - 0s 156us/step - loss: 0.0109 - acc: 0.9986 - val_loss: 0.0185 - val_acc: 1.0000\n",
            "Epoch 96/100\n",
            "717/717 [==============================] - 0s 152us/step - loss: 0.0137 - acc: 0.9958 - val_loss: 0.0321 - val_acc: 0.9875\n",
            "Epoch 97/100\n",
            "717/717 [==============================] - 0s 145us/step - loss: 0.0165 - acc: 0.9944 - val_loss: 0.0252 - val_acc: 1.0000\n",
            "Epoch 98/100\n",
            "717/717 [==============================] - 0s 149us/step - loss: 0.0129 - acc: 0.9972 - val_loss: 0.0156 - val_acc: 1.0000\n",
            "Epoch 99/100\n",
            "717/717 [==============================] - 0s 150us/step - loss: 0.0102 - acc: 0.9986 - val_loss: 0.0177 - val_acc: 1.0000\n",
            "Epoch 100/100\n",
            "717/717 [==============================] - 0s 149us/step - loss: 0.0120 - acc: 0.9972 - val_loss: 0.0170 - val_acc: 1.0000\n"
          ],
          "name": "stdout"
        },
        {
          "output_type": "execute_result",
          "data": {
            "text/plain": [
              "<keras.callbacks.History at 0x7f2167e6c898>"
            ]
          },
          "metadata": {
            "tags": []
          },
          "execution_count": 19
        }
      ]
    },
    {
      "cell_type": "code",
      "metadata": {
        "id": "1Reuwv4kId-P",
        "colab_type": "code",
        "colab": {}
      },
      "source": [
        "model.save(\"model_digit.h5\")"
      ],
      "execution_count": 0,
      "outputs": []
    }
  ]
}